{
 "cells": [
  {
   "cell_type": "markdown",
   "metadata": {},
   "source": [
    "### Note\n",
    "* Instructions have been included for each segment. You do not have to follow them exactly, but they are included to help you think through the steps."
   ]
  },
  {
   "cell_type": "code",
   "execution_count": 21,
   "metadata": {},
   "outputs": [],
   "source": [
    "# Dependencies and Setup\n",
    "import pandas as pd\n",
    "\n",
    "# File to Load (Remember to Change These)\n",
    "file_to_load = \"purchase_data.csv\"\n",
    "\n",
    "# Read Purchasing File and store into Pandas data frame\n",
    "purchase_data_df = pd.read_csv(file_to_load)"
   ]
  },
  {
   "cell_type": "markdown",
   "metadata": {},
   "source": [
    "## Player Count"
   ]
  },
  {
   "cell_type": "markdown",
   "metadata": {},
   "source": [
    "* Display the total number of players\n"
   ]
  },
  {
   "cell_type": "code",
   "execution_count": 22,
   "metadata": {},
   "outputs": [
    {
     "data": {
      "text/html": [
       "<div>\n",
       "<style scoped>\n",
       "    .dataframe tbody tr th:only-of-type {\n",
       "        vertical-align: middle;\n",
       "    }\n",
       "\n",
       "    .dataframe tbody tr th {\n",
       "        vertical-align: top;\n",
       "    }\n",
       "\n",
       "    .dataframe thead th {\n",
       "        text-align: right;\n",
       "    }\n",
       "</style>\n",
       "<table border=\"1\" class=\"dataframe\">\n",
       "  <thead>\n",
       "    <tr style=\"text-align: right;\">\n",
       "      <th></th>\n",
       "      <th>Total Players</th>\n",
       "    </tr>\n",
       "  </thead>\n",
       "  <tbody>\n",
       "    <tr>\n",
       "      <th>0</th>\n",
       "      <td>576</td>\n",
       "    </tr>\n",
       "  </tbody>\n",
       "</table>\n",
       "</div>"
      ],
      "text/plain": [
       "   Total Players\n",
       "0            576"
      ]
     },
     "execution_count": 22,
     "metadata": {},
     "output_type": "execute_result"
    }
   ],
   "source": [
    "#counting length of the unique values in SN column of the data frame\n",
    "count = len(purchase_data_df[\"SN\"].unique())\n",
    "#Putting the count into a dictonary of list\n",
    "count1 = [{\"Total Players\" : count}]\n",
    "#Creating a data frame to display the total number of players\n",
    "noofplayers_df = pd.DataFrame(count1)\n",
    "#printing the data frame\n",
    "noofplayers_df"
   ]
  },
  {
   "cell_type": "markdown",
   "metadata": {},
   "source": [
    "## Purchasing Analysis (Total)"
   ]
  },
  {
   "cell_type": "markdown",
   "metadata": {},
   "source": [
    "* Run basic calculations to obtain number of unique items, average price, etc.\n",
    "\n",
    "\n",
    "* Create a summary data frame to hold the results\n",
    "\n",
    "\n",
    "* Optional: give the displayed data cleaner formatting\n",
    "\n",
    "\n",
    "* Display the summary data frame\n"
   ]
  },
  {
   "cell_type": "code",
   "execution_count": 23,
   "metadata": {
    "scrolled": true
   },
   "outputs": [
    {
     "data": {
      "text/html": [
       "<style  type=\"text/css\" >\n",
       "#T_fac03e2e_7caa_11eb_92e7_1e00e21a9388row0_col0,#T_fac03e2e_7caa_11eb_92e7_1e00e21a9388row0_col1,#T_fac03e2e_7caa_11eb_92e7_1e00e21a9388row0_col2,#T_fac03e2e_7caa_11eb_92e7_1e00e21a9388row0_col3{\n",
       "            text-align:  left;\n",
       "        }</style><table id=\"T_fac03e2e_7caa_11eb_92e7_1e00e21a9388\" ><thead>    <tr>        <th class=\"blank level0\" ></th>        <th class=\"col_heading level0 col0\" >Number of Unique Items</th>        <th class=\"col_heading level0 col1\" >Average Price</th>        <th class=\"col_heading level0 col2\" >Number of Purchases</th>        <th class=\"col_heading level0 col3\" >Total Revenue</th>    </tr></thead><tbody>\n",
       "                <tr>\n",
       "                        <th id=\"T_fac03e2e_7caa_11eb_92e7_1e00e21a9388level0_row0\" class=\"row_heading level0 row0\" >0</th>\n",
       "                        <td id=\"T_fac03e2e_7caa_11eb_92e7_1e00e21a9388row0_col0\" class=\"data row0 col0\" >179</td>\n",
       "                        <td id=\"T_fac03e2e_7caa_11eb_92e7_1e00e21a9388row0_col1\" class=\"data row0 col1\" >$3.05</td>\n",
       "                        <td id=\"T_fac03e2e_7caa_11eb_92e7_1e00e21a9388row0_col2\" class=\"data row0 col2\" >780</td>\n",
       "                        <td id=\"T_fac03e2e_7caa_11eb_92e7_1e00e21a9388row0_col3\" class=\"data row0 col3\" >$2,379.77</td>\n",
       "            </tr>\n",
       "    </tbody></table>"
      ],
      "text/plain": [
       "<pandas.io.formats.style.Styler at 0x7fb22af664c0>"
      ]
     },
     "execution_count": 23,
     "metadata": {},
     "output_type": "execute_result"
    }
   ],
   "source": [
    "#Calculating unique items, average price, number of purchases and total revenue\n",
    "uniitems = len(purchase_data_df[\"Item ID\"].unique())\n",
    "avgprice = purchase_data_df[\"Price\"].mean(axis=0)\n",
    "noofpurchases = purchase_data_df[\"Purchase ID\"].count()\n",
    "totalrevenue = purchase_data_df[\"Price\"].sum()\n",
    "#Inserting all new calculations into a summary table\n",
    "summary_df = [{\"Number of Unique Items\": uniitems, \"Average Price\": avgprice, \"Number of Purchases\" : noofpurchases, \"Total Revenue\" : totalrevenue}]\n",
    "summary_df = pd.DataFrame(summary_df)\n",
    "#Formatting the Average Price and Total Revenue object to include $ sign and decimal points. \n",
    "summary_df[\"Average Price\"] = summary_df[\"Average Price\"].map(\"${:.2f}\".format)\n",
    "summary_df[\"Total Revenue\"] = summary_df[\"Total Revenue\"].map(\"${:,}\".format)\n",
    "#Aligning the data to align left\n",
    "summary_df = summary_df.style.set_properties(**{'text-align':'left'})\n",
    "#Prining the data frame\n",
    "summary_df"
   ]
  },
  {
   "cell_type": "markdown",
   "metadata": {},
   "source": [
    "## Gender Demographics"
   ]
  },
  {
   "cell_type": "markdown",
   "metadata": {},
   "source": [
    "* Percentage and Count of Male Players\n",
    "\n",
    "\n",
    "* Percentage and Count of Female Players\n",
    "\n",
    "\n",
    "* Percentage and Count of Other / Non-Disclosed\n",
    "\n",
    "\n"
   ]
  },
  {
   "cell_type": "code",
   "execution_count": 24,
   "metadata": {},
   "outputs": [
    {
     "data": {
      "text/html": [
       "<style  type=\"text/css\" >\n",
       "    #T_fac2499e_7caa_11eb_92e7_1e00e21a9388 th {\n",
       "          text-align: left;\n",
       "    }#T_fac2499e_7caa_11eb_92e7_1e00e21a9388row0_col0,#T_fac2499e_7caa_11eb_92e7_1e00e21a9388row0_col1,#T_fac2499e_7caa_11eb_92e7_1e00e21a9388row1_col0,#T_fac2499e_7caa_11eb_92e7_1e00e21a9388row1_col1,#T_fac2499e_7caa_11eb_92e7_1e00e21a9388row2_col0,#T_fac2499e_7caa_11eb_92e7_1e00e21a9388row2_col1{\n",
       "            text-align:  left;\n",
       "        }</style><table id=\"T_fac2499e_7caa_11eb_92e7_1e00e21a9388\" ><thead>    <tr>        <th class=\"blank level0\" ></th>        <th class=\"col_heading level0 col0\" >Total Count</th>        <th class=\"col_heading level0 col1\" >Percentage of Players</th>    </tr></thead><tbody>\n",
       "                <tr>\n",
       "                        <th id=\"T_fac2499e_7caa_11eb_92e7_1e00e21a9388level0_row0\" class=\"row_heading level0 row0\" >Male</th>\n",
       "                        <td id=\"T_fac2499e_7caa_11eb_92e7_1e00e21a9388row0_col0\" class=\"data row0 col0\" >484</td>\n",
       "                        <td id=\"T_fac2499e_7caa_11eb_92e7_1e00e21a9388row0_col1\" class=\"data row0 col1\" >84.03%</td>\n",
       "            </tr>\n",
       "            <tr>\n",
       "                        <th id=\"T_fac2499e_7caa_11eb_92e7_1e00e21a9388level0_row1\" class=\"row_heading level0 row1\" >Female</th>\n",
       "                        <td id=\"T_fac2499e_7caa_11eb_92e7_1e00e21a9388row1_col0\" class=\"data row1 col0\" >81</td>\n",
       "                        <td id=\"T_fac2499e_7caa_11eb_92e7_1e00e21a9388row1_col1\" class=\"data row1 col1\" >14.06%</td>\n",
       "            </tr>\n",
       "            <tr>\n",
       "                        <th id=\"T_fac2499e_7caa_11eb_92e7_1e00e21a9388level0_row2\" class=\"row_heading level0 row2\" >Other / Non-Disclosed</th>\n",
       "                        <td id=\"T_fac2499e_7caa_11eb_92e7_1e00e21a9388row2_col0\" class=\"data row2 col0\" >11</td>\n",
       "                        <td id=\"T_fac2499e_7caa_11eb_92e7_1e00e21a9388row2_col1\" class=\"data row2 col1\" >1.91%</td>\n",
       "            </tr>\n",
       "    </tbody></table>"
      ],
      "text/plain": [
       "<pandas.io.formats.style.Styler at 0x7fb22af527f0>"
      ]
     },
     "execution_count": 24,
     "metadata": {},
     "output_type": "execute_result"
    }
   ],
   "source": [
    "#Grouping the data frame by Gender and getting unique count of column SN\n",
    "groupedpurchase = purchase_data_df.groupby('Gender').agg({ \"SN\": \"nunique\"})\n",
    "#Inserting new column called Total Count\n",
    "groupedpurchase.columns=[\"Total Count\"]\n",
    "#Inserting new column called Percentage of Players and calculating the percentange of total players by Gender\n",
    "groupedpurchase[\"Percentage of Players\"] = (groupedpurchase[\"Total Count\"]/purchase_data_df[\"SN\"].nunique())*100\n",
    "#Dropping the name of the index\n",
    "groupedpurchase.index.name=None\n",
    "#Formatting the column Percentage of Players to have % sign and two decimal points\n",
    "groupedpurchase[\"Percentage of Players\"] = groupedpurchase[\"Percentage of Players\"].map(\"{:.2f}%\".format)\n",
    "#Sorting the data frame by Total Count\n",
    "groupedpurchase = groupedpurchase.sort_values(\"Total Count\", ascending=False)\n",
    "#Aligning all the text to be left indented\n",
    "groupedpurchase = groupedpurchase.style.set_properties(**{'text-align':'left'})\n",
    "#Setting all table style to be left indented which causes the index to be left indented as well\n",
    "groupedpurchase.set_table_styles([dict(selector='th', props=[('text-align', 'left')])])\n",
    "#Printing the table\n",
    "groupedpurchase"
   ]
  },
  {
   "cell_type": "markdown",
   "metadata": {},
   "source": [
    "\n",
    "## Purchasing Analysis (Gender)"
   ]
  },
  {
   "cell_type": "markdown",
   "metadata": {},
   "source": [
    "* Run basic calculations to obtain purchase count, avg. purchase price, avg. purchase total per person etc. by gender\n",
    "\n",
    "\n",
    "\n",
    "\n",
    "* Create a summary data frame to hold the results\n",
    "\n",
    "\n",
    "* Optional: give the displayed data cleaner formatting\n",
    "\n",
    "\n",
    "* Display the summary data frame"
   ]
  },
  {
   "cell_type": "code",
   "execution_count": 25,
   "metadata": {},
   "outputs": [
    {
     "data": {
      "text/html": [
       "<style  type=\"text/css\" >\n",
       "    #T_fac4a130_7caa_11eb_92e7_1e00e21a9388 th {\n",
       "          text-align: left;\n",
       "    }#T_fac4a130_7caa_11eb_92e7_1e00e21a9388row0_col0,#T_fac4a130_7caa_11eb_92e7_1e00e21a9388row0_col1,#T_fac4a130_7caa_11eb_92e7_1e00e21a9388row0_col2,#T_fac4a130_7caa_11eb_92e7_1e00e21a9388row0_col3,#T_fac4a130_7caa_11eb_92e7_1e00e21a9388row1_col0,#T_fac4a130_7caa_11eb_92e7_1e00e21a9388row1_col1,#T_fac4a130_7caa_11eb_92e7_1e00e21a9388row1_col2,#T_fac4a130_7caa_11eb_92e7_1e00e21a9388row1_col3,#T_fac4a130_7caa_11eb_92e7_1e00e21a9388row2_col0,#T_fac4a130_7caa_11eb_92e7_1e00e21a9388row2_col1,#T_fac4a130_7caa_11eb_92e7_1e00e21a9388row2_col2,#T_fac4a130_7caa_11eb_92e7_1e00e21a9388row2_col3{\n",
       "            text-align:  left;\n",
       "        }</style><table id=\"T_fac4a130_7caa_11eb_92e7_1e00e21a9388\" ><thead>    <tr>        <th class=\"blank level0\" ></th>        <th class=\"col_heading level0 col0\" >Purchase Count</th>        <th class=\"col_heading level0 col1\" >Average Purchase Price</th>        <th class=\"col_heading level0 col2\" >Total Purchase Value</th>        <th class=\"col_heading level0 col3\" >Avg Total Purchase per Person</th>    </tr>    <tr>        <th class=\"index_name level0\" >Gender</th>        <th class=\"blank\" ></th>        <th class=\"blank\" ></th>        <th class=\"blank\" ></th>        <th class=\"blank\" ></th>    </tr></thead><tbody>\n",
       "                <tr>\n",
       "                        <th id=\"T_fac4a130_7caa_11eb_92e7_1e00e21a9388level0_row0\" class=\"row_heading level0 row0\" >Female</th>\n",
       "                        <td id=\"T_fac4a130_7caa_11eb_92e7_1e00e21a9388row0_col0\" class=\"data row0 col0\" >113</td>\n",
       "                        <td id=\"T_fac4a130_7caa_11eb_92e7_1e00e21a9388row0_col1\" class=\"data row0 col1\" >$3.20</td>\n",
       "                        <td id=\"T_fac4a130_7caa_11eb_92e7_1e00e21a9388row0_col2\" class=\"data row0 col2\" >$361.94</td>\n",
       "                        <td id=\"T_fac4a130_7caa_11eb_92e7_1e00e21a9388row0_col3\" class=\"data row0 col3\" >$4.47</td>\n",
       "            </tr>\n",
       "            <tr>\n",
       "                        <th id=\"T_fac4a130_7caa_11eb_92e7_1e00e21a9388level0_row1\" class=\"row_heading level0 row1\" >Male</th>\n",
       "                        <td id=\"T_fac4a130_7caa_11eb_92e7_1e00e21a9388row1_col0\" class=\"data row1 col0\" >652</td>\n",
       "                        <td id=\"T_fac4a130_7caa_11eb_92e7_1e00e21a9388row1_col1\" class=\"data row1 col1\" >$3.02</td>\n",
       "                        <td id=\"T_fac4a130_7caa_11eb_92e7_1e00e21a9388row1_col2\" class=\"data row1 col2\" >$1967.64</td>\n",
       "                        <td id=\"T_fac4a130_7caa_11eb_92e7_1e00e21a9388row1_col3\" class=\"data row1 col3\" >$4.07</td>\n",
       "            </tr>\n",
       "            <tr>\n",
       "                        <th id=\"T_fac4a130_7caa_11eb_92e7_1e00e21a9388level0_row2\" class=\"row_heading level0 row2\" >Other / Non-Disclosed</th>\n",
       "                        <td id=\"T_fac4a130_7caa_11eb_92e7_1e00e21a9388row2_col0\" class=\"data row2 col0\" >15</td>\n",
       "                        <td id=\"T_fac4a130_7caa_11eb_92e7_1e00e21a9388row2_col1\" class=\"data row2 col1\" >$3.35</td>\n",
       "                        <td id=\"T_fac4a130_7caa_11eb_92e7_1e00e21a9388row2_col2\" class=\"data row2 col2\" >$50.19</td>\n",
       "                        <td id=\"T_fac4a130_7caa_11eb_92e7_1e00e21a9388row2_col3\" class=\"data row2 col3\" >$4.56</td>\n",
       "            </tr>\n",
       "    </tbody></table>"
      ],
      "text/plain": [
       "<pandas.io.formats.style.Styler at 0x7fb2292d1fa0>"
      ]
     },
     "execution_count": 25,
     "metadata": {},
     "output_type": "execute_result"
    }
   ],
   "source": [
    "#Grouping the data frame by Gender and getting unique count of column SN, count of Purchase Id and mean & sum of Price\n",
    "purchanalysis = purchase_data_df.groupby('Gender').agg({\"Purchase ID\": \"count\", \"Price\": [\"mean\", \"sum\"], \"SN\": \"nunique\"})\n",
    "#Inserting new columns\n",
    "purchanalysis.columns=[\"Purchase Count\", \"Average Purchase Price\", \"Total Purchase Value\", \"SN\"]\n",
    "#Calculating Avg Total Purchase per Person and inserting the column\n",
    "purchanalysis[\"Avg Total Purchase per Person\"] = purchanalysis[\"Total Purchase Value\"]/purchanalysis[\"SN\"]\n",
    "#Deleting column SN\n",
    "del purchanalysis [\"SN\"]\n",
    "#Formatting Average Purchase Price, Total Purchase Value and Avg Total Purchase per Person to have $ sign and two decimal points\n",
    "purchanalysis[\"Average Purchase Price\"] = purchanalysis[\"Average Purchase Price\"].map(\"${:.2f}\".format)\n",
    "purchanalysis[\"Total Purchase Value\"] = purchanalysis[\"Total Purchase Value\"].map(\"${:.2f}\".format)\n",
    "purchanalysis[\"Avg Total Purchase per Person\"] = purchanalysis[\"Avg Total Purchase per Person\"].map(\"${:.2f}\".format)\n",
    "#Aligning all the text to be left indented\n",
    "purchanalysis = purchanalysis.style.set_properties(**{'text-align':'left'})\n",
    "#Setting all table style to be left indented which causes the index to be left indented as well\n",
    "purchanalysis.set_table_styles([dict(selector='th', props=[('text-align', 'left')])])\n",
    "\n"
   ]
  },
  {
   "cell_type": "markdown",
   "metadata": {},
   "source": [
    "## Age Demographics"
   ]
  },
  {
   "cell_type": "markdown",
   "metadata": {},
   "source": [
    "* Establish bins for ages\n",
    "\n",
    "\n",
    "* Categorize the existing players using the age bins. Hint: use pd.cut()\n",
    "\n",
    "\n",
    "* Calculate the numbers and percentages by age group\n",
    "\n",
    "\n",
    "* Create a summary data frame to hold the results\n",
    "\n",
    "\n",
    "* Optional: round the percentage column to two decimal points\n",
    "\n",
    "\n",
    "* Display Age Demographics Table\n"
   ]
  },
  {
   "cell_type": "code",
   "execution_count": 26,
   "metadata": {},
   "outputs": [
    {
     "data": {
      "text/html": [
       "<style  type=\"text/css\" >\n",
       "    #T_fac789d6_7caa_11eb_92e7_1e00e21a9388 th {\n",
       "          text-align: left;\n",
       "    }#T_fac789d6_7caa_11eb_92e7_1e00e21a9388row0_col0,#T_fac789d6_7caa_11eb_92e7_1e00e21a9388row0_col1,#T_fac789d6_7caa_11eb_92e7_1e00e21a9388row1_col0,#T_fac789d6_7caa_11eb_92e7_1e00e21a9388row1_col1,#T_fac789d6_7caa_11eb_92e7_1e00e21a9388row2_col0,#T_fac789d6_7caa_11eb_92e7_1e00e21a9388row2_col1,#T_fac789d6_7caa_11eb_92e7_1e00e21a9388row3_col0,#T_fac789d6_7caa_11eb_92e7_1e00e21a9388row3_col1,#T_fac789d6_7caa_11eb_92e7_1e00e21a9388row4_col0,#T_fac789d6_7caa_11eb_92e7_1e00e21a9388row4_col1,#T_fac789d6_7caa_11eb_92e7_1e00e21a9388row5_col0,#T_fac789d6_7caa_11eb_92e7_1e00e21a9388row5_col1,#T_fac789d6_7caa_11eb_92e7_1e00e21a9388row6_col0,#T_fac789d6_7caa_11eb_92e7_1e00e21a9388row6_col1,#T_fac789d6_7caa_11eb_92e7_1e00e21a9388row7_col0,#T_fac789d6_7caa_11eb_92e7_1e00e21a9388row7_col1{\n",
       "            text-align:  left;\n",
       "        }</style><table id=\"T_fac789d6_7caa_11eb_92e7_1e00e21a9388\" ><thead>    <tr>        <th class=\"blank level0\" ></th>        <th class=\"col_heading level0 col0\" >Total Count</th>        <th class=\"col_heading level0 col1\" >Percentage of Players</th>    </tr></thead><tbody>\n",
       "                <tr>\n",
       "                        <th id=\"T_fac789d6_7caa_11eb_92e7_1e00e21a9388level0_row0\" class=\"row_heading level0 row0\" ><10</th>\n",
       "                        <td id=\"T_fac789d6_7caa_11eb_92e7_1e00e21a9388row0_col0\" class=\"data row0 col0\" >17</td>\n",
       "                        <td id=\"T_fac789d6_7caa_11eb_92e7_1e00e21a9388row0_col1\" class=\"data row0 col1\" >2.95%</td>\n",
       "            </tr>\n",
       "            <tr>\n",
       "                        <th id=\"T_fac789d6_7caa_11eb_92e7_1e00e21a9388level0_row1\" class=\"row_heading level0 row1\" >10-14</th>\n",
       "                        <td id=\"T_fac789d6_7caa_11eb_92e7_1e00e21a9388row1_col0\" class=\"data row1 col0\" >22</td>\n",
       "                        <td id=\"T_fac789d6_7caa_11eb_92e7_1e00e21a9388row1_col1\" class=\"data row1 col1\" >3.82%</td>\n",
       "            </tr>\n",
       "            <tr>\n",
       "                        <th id=\"T_fac789d6_7caa_11eb_92e7_1e00e21a9388level0_row2\" class=\"row_heading level0 row2\" >15-19</th>\n",
       "                        <td id=\"T_fac789d6_7caa_11eb_92e7_1e00e21a9388row2_col0\" class=\"data row2 col0\" >107</td>\n",
       "                        <td id=\"T_fac789d6_7caa_11eb_92e7_1e00e21a9388row2_col1\" class=\"data row2 col1\" >18.58%</td>\n",
       "            </tr>\n",
       "            <tr>\n",
       "                        <th id=\"T_fac789d6_7caa_11eb_92e7_1e00e21a9388level0_row3\" class=\"row_heading level0 row3\" >20-24</th>\n",
       "                        <td id=\"T_fac789d6_7caa_11eb_92e7_1e00e21a9388row3_col0\" class=\"data row3 col0\" >258</td>\n",
       "                        <td id=\"T_fac789d6_7caa_11eb_92e7_1e00e21a9388row3_col1\" class=\"data row3 col1\" >44.79%</td>\n",
       "            </tr>\n",
       "            <tr>\n",
       "                        <th id=\"T_fac789d6_7caa_11eb_92e7_1e00e21a9388level0_row4\" class=\"row_heading level0 row4\" >25-29</th>\n",
       "                        <td id=\"T_fac789d6_7caa_11eb_92e7_1e00e21a9388row4_col0\" class=\"data row4 col0\" >77</td>\n",
       "                        <td id=\"T_fac789d6_7caa_11eb_92e7_1e00e21a9388row4_col1\" class=\"data row4 col1\" >13.37%</td>\n",
       "            </tr>\n",
       "            <tr>\n",
       "                        <th id=\"T_fac789d6_7caa_11eb_92e7_1e00e21a9388level0_row5\" class=\"row_heading level0 row5\" >30-34</th>\n",
       "                        <td id=\"T_fac789d6_7caa_11eb_92e7_1e00e21a9388row5_col0\" class=\"data row5 col0\" >52</td>\n",
       "                        <td id=\"T_fac789d6_7caa_11eb_92e7_1e00e21a9388row5_col1\" class=\"data row5 col1\" >9.03%</td>\n",
       "            </tr>\n",
       "            <tr>\n",
       "                        <th id=\"T_fac789d6_7caa_11eb_92e7_1e00e21a9388level0_row6\" class=\"row_heading level0 row6\" >35-39</th>\n",
       "                        <td id=\"T_fac789d6_7caa_11eb_92e7_1e00e21a9388row6_col0\" class=\"data row6 col0\" >31</td>\n",
       "                        <td id=\"T_fac789d6_7caa_11eb_92e7_1e00e21a9388row6_col1\" class=\"data row6 col1\" >5.38%</td>\n",
       "            </tr>\n",
       "            <tr>\n",
       "                        <th id=\"T_fac789d6_7caa_11eb_92e7_1e00e21a9388level0_row7\" class=\"row_heading level0 row7\" >40+</th>\n",
       "                        <td id=\"T_fac789d6_7caa_11eb_92e7_1e00e21a9388row7_col0\" class=\"data row7 col0\" >12</td>\n",
       "                        <td id=\"T_fac789d6_7caa_11eb_92e7_1e00e21a9388row7_col1\" class=\"data row7 col1\" >2.08%</td>\n",
       "            </tr>\n",
       "    </tbody></table>"
      ],
      "text/plain": [
       "<pandas.io.formats.style.Styler at 0x7fb25854db80>"
      ]
     },
     "execution_count": 26,
     "metadata": {},
     "output_type": "execute_result"
    }
   ],
   "source": [
    "#Establishing bins for ages\n",
    "bins = [0, 9, 14, 19, 24, 29, 34, 39, 45]\n",
    "#Creating labels for the bin\n",
    "group_labels = [\"<10\",\"10-14\",\"15-19\",\"20-24\",\"25-29\", \"30-34\", \"35-39\", \"40+\"]\n",
    "#Using cut method to slice the data by Age, applying group labels and to include the lowest range \n",
    "pd.cut(purchase_data_df[\"Age\"], bins, labels=group_labels).head()\n",
    "purchase_data_df[\"Age Ranges\"] = pd.cut(purchase_data_df[\"Age\"], bins, labels=group_labels, include_lowest=True)\n",
    "#Grouping the data frame by new column and include unique counts of column SN to get total count by age\n",
    "Agerange = purchase_data_df.groupby(\"Age Ranges\").agg({\"SN\": \"nunique\"})\n",
    "#Inser the new column\n",
    "Agerange.columns=[\"Total Count\"]\n",
    "#Calculate percentage of players in each age range and insert in new column of percentage of playes\n",
    "Agerange[\"Percentage of Players\"] = (Agerange[\"Total Count\"]/Agerange[\"Total Count\"].sum())*100\n",
    "#Formatting Percentage of Players to display % and two decimal points\n",
    "Agerange[\"Percentage of Players\"] = Agerange[\"Percentage of Players\"].map(\"{:.2f}%\".format)\n",
    "#Dropping the index name\n",
    "Agerange.index.name=None\n",
    "#Aligning all the text to be left indented\n",
    "Agerange = Agerange.style.set_properties(**{'text-align':'left'})\n",
    "#Setting all table style to be left indented which causes the index to be left indented as well\n",
    "Agerange.set_table_styles([dict(selector='th', props=[('text-align', 'left')])])"
   ]
  },
  {
   "cell_type": "markdown",
   "metadata": {},
   "source": [
    "## Purchasing Analysis (Age)"
   ]
  },
  {
   "cell_type": "markdown",
   "metadata": {},
   "source": [
    "* Bin the purchase_data data frame by age\n",
    "\n",
    "\n",
    "* Run basic calculations to obtain purchase count, avg. purchase price, avg. purchase total per person etc. in the table below\n",
    "\n",
    "\n",
    "* Create a summary data frame to hold the results\n",
    "\n",
    "\n",
    "* Optional: give the displayed data cleaner formatting\n",
    "\n",
    "\n",
    "* Display the summary data frame"
   ]
  },
  {
   "cell_type": "code",
   "execution_count": 27,
   "metadata": {},
   "outputs": [
    {
     "data": {
      "text/html": [
       "<style  type=\"text/css\" >\n",
       "    #T_faca29fc_7caa_11eb_92e7_1e00e21a9388 th {\n",
       "          text-align: left;\n",
       "    }#T_faca29fc_7caa_11eb_92e7_1e00e21a9388row0_col0,#T_faca29fc_7caa_11eb_92e7_1e00e21a9388row0_col1,#T_faca29fc_7caa_11eb_92e7_1e00e21a9388row0_col2,#T_faca29fc_7caa_11eb_92e7_1e00e21a9388row0_col3,#T_faca29fc_7caa_11eb_92e7_1e00e21a9388row1_col0,#T_faca29fc_7caa_11eb_92e7_1e00e21a9388row1_col1,#T_faca29fc_7caa_11eb_92e7_1e00e21a9388row1_col2,#T_faca29fc_7caa_11eb_92e7_1e00e21a9388row1_col3,#T_faca29fc_7caa_11eb_92e7_1e00e21a9388row2_col0,#T_faca29fc_7caa_11eb_92e7_1e00e21a9388row2_col1,#T_faca29fc_7caa_11eb_92e7_1e00e21a9388row2_col2,#T_faca29fc_7caa_11eb_92e7_1e00e21a9388row2_col3,#T_faca29fc_7caa_11eb_92e7_1e00e21a9388row3_col0,#T_faca29fc_7caa_11eb_92e7_1e00e21a9388row3_col1,#T_faca29fc_7caa_11eb_92e7_1e00e21a9388row3_col2,#T_faca29fc_7caa_11eb_92e7_1e00e21a9388row3_col3,#T_faca29fc_7caa_11eb_92e7_1e00e21a9388row4_col0,#T_faca29fc_7caa_11eb_92e7_1e00e21a9388row4_col1,#T_faca29fc_7caa_11eb_92e7_1e00e21a9388row4_col2,#T_faca29fc_7caa_11eb_92e7_1e00e21a9388row4_col3,#T_faca29fc_7caa_11eb_92e7_1e00e21a9388row5_col0,#T_faca29fc_7caa_11eb_92e7_1e00e21a9388row5_col1,#T_faca29fc_7caa_11eb_92e7_1e00e21a9388row5_col2,#T_faca29fc_7caa_11eb_92e7_1e00e21a9388row5_col3,#T_faca29fc_7caa_11eb_92e7_1e00e21a9388row6_col0,#T_faca29fc_7caa_11eb_92e7_1e00e21a9388row6_col1,#T_faca29fc_7caa_11eb_92e7_1e00e21a9388row6_col2,#T_faca29fc_7caa_11eb_92e7_1e00e21a9388row6_col3,#T_faca29fc_7caa_11eb_92e7_1e00e21a9388row7_col0,#T_faca29fc_7caa_11eb_92e7_1e00e21a9388row7_col1,#T_faca29fc_7caa_11eb_92e7_1e00e21a9388row7_col2,#T_faca29fc_7caa_11eb_92e7_1e00e21a9388row7_col3{\n",
       "            text-align:  left;\n",
       "        }</style><table id=\"T_faca29fc_7caa_11eb_92e7_1e00e21a9388\" ><thead>    <tr>        <th class=\"blank level0\" ></th>        <th class=\"col_heading level0 col0\" >Purchase Count</th>        <th class=\"col_heading level0 col1\" >Average Purchase Price</th>        <th class=\"col_heading level0 col2\" >Total Purchase Value</th>        <th class=\"col_heading level0 col3\" >Avg Total Purchase per Person</th>    </tr>    <tr>        <th class=\"index_name level0\" >Age Ranges</th>        <th class=\"blank\" ></th>        <th class=\"blank\" ></th>        <th class=\"blank\" ></th>        <th class=\"blank\" ></th>    </tr></thead><tbody>\n",
       "                <tr>\n",
       "                        <th id=\"T_faca29fc_7caa_11eb_92e7_1e00e21a9388level0_row0\" class=\"row_heading level0 row0\" ><10</th>\n",
       "                        <td id=\"T_faca29fc_7caa_11eb_92e7_1e00e21a9388row0_col0\" class=\"data row0 col0\" >23</td>\n",
       "                        <td id=\"T_faca29fc_7caa_11eb_92e7_1e00e21a9388row0_col1\" class=\"data row0 col1\" >$3.35</td>\n",
       "                        <td id=\"T_faca29fc_7caa_11eb_92e7_1e00e21a9388row0_col2\" class=\"data row0 col2\" >$77.13</td>\n",
       "                        <td id=\"T_faca29fc_7caa_11eb_92e7_1e00e21a9388row0_col3\" class=\"data row0 col3\" >$4.54</td>\n",
       "            </tr>\n",
       "            <tr>\n",
       "                        <th id=\"T_faca29fc_7caa_11eb_92e7_1e00e21a9388level0_row1\" class=\"row_heading level0 row1\" >10-14</th>\n",
       "                        <td id=\"T_faca29fc_7caa_11eb_92e7_1e00e21a9388row1_col0\" class=\"data row1 col0\" >28</td>\n",
       "                        <td id=\"T_faca29fc_7caa_11eb_92e7_1e00e21a9388row1_col1\" class=\"data row1 col1\" >$2.96</td>\n",
       "                        <td id=\"T_faca29fc_7caa_11eb_92e7_1e00e21a9388row1_col2\" class=\"data row1 col2\" >$82.78</td>\n",
       "                        <td id=\"T_faca29fc_7caa_11eb_92e7_1e00e21a9388row1_col3\" class=\"data row1 col3\" >$3.76</td>\n",
       "            </tr>\n",
       "            <tr>\n",
       "                        <th id=\"T_faca29fc_7caa_11eb_92e7_1e00e21a9388level0_row2\" class=\"row_heading level0 row2\" >15-19</th>\n",
       "                        <td id=\"T_faca29fc_7caa_11eb_92e7_1e00e21a9388row2_col0\" class=\"data row2 col0\" >136</td>\n",
       "                        <td id=\"T_faca29fc_7caa_11eb_92e7_1e00e21a9388row2_col1\" class=\"data row2 col1\" >$3.04</td>\n",
       "                        <td id=\"T_faca29fc_7caa_11eb_92e7_1e00e21a9388row2_col2\" class=\"data row2 col2\" >$412.89</td>\n",
       "                        <td id=\"T_faca29fc_7caa_11eb_92e7_1e00e21a9388row2_col3\" class=\"data row2 col3\" >$3.86</td>\n",
       "            </tr>\n",
       "            <tr>\n",
       "                        <th id=\"T_faca29fc_7caa_11eb_92e7_1e00e21a9388level0_row3\" class=\"row_heading level0 row3\" >20-24</th>\n",
       "                        <td id=\"T_faca29fc_7caa_11eb_92e7_1e00e21a9388row3_col0\" class=\"data row3 col0\" >365</td>\n",
       "                        <td id=\"T_faca29fc_7caa_11eb_92e7_1e00e21a9388row3_col1\" class=\"data row3 col1\" >$3.05</td>\n",
       "                        <td id=\"T_faca29fc_7caa_11eb_92e7_1e00e21a9388row3_col2\" class=\"data row3 col2\" >$1114.06</td>\n",
       "                        <td id=\"T_faca29fc_7caa_11eb_92e7_1e00e21a9388row3_col3\" class=\"data row3 col3\" >$4.32</td>\n",
       "            </tr>\n",
       "            <tr>\n",
       "                        <th id=\"T_faca29fc_7caa_11eb_92e7_1e00e21a9388level0_row4\" class=\"row_heading level0 row4\" >25-29</th>\n",
       "                        <td id=\"T_faca29fc_7caa_11eb_92e7_1e00e21a9388row4_col0\" class=\"data row4 col0\" >101</td>\n",
       "                        <td id=\"T_faca29fc_7caa_11eb_92e7_1e00e21a9388row4_col1\" class=\"data row4 col1\" >$2.90</td>\n",
       "                        <td id=\"T_faca29fc_7caa_11eb_92e7_1e00e21a9388row4_col2\" class=\"data row4 col2\" >$293.00</td>\n",
       "                        <td id=\"T_faca29fc_7caa_11eb_92e7_1e00e21a9388row4_col3\" class=\"data row4 col3\" >$3.81</td>\n",
       "            </tr>\n",
       "            <tr>\n",
       "                        <th id=\"T_faca29fc_7caa_11eb_92e7_1e00e21a9388level0_row5\" class=\"row_heading level0 row5\" >30-34</th>\n",
       "                        <td id=\"T_faca29fc_7caa_11eb_92e7_1e00e21a9388row5_col0\" class=\"data row5 col0\" >73</td>\n",
       "                        <td id=\"T_faca29fc_7caa_11eb_92e7_1e00e21a9388row5_col1\" class=\"data row5 col1\" >$2.93</td>\n",
       "                        <td id=\"T_faca29fc_7caa_11eb_92e7_1e00e21a9388row5_col2\" class=\"data row5 col2\" >$214.00</td>\n",
       "                        <td id=\"T_faca29fc_7caa_11eb_92e7_1e00e21a9388row5_col3\" class=\"data row5 col3\" >$4.12</td>\n",
       "            </tr>\n",
       "            <tr>\n",
       "                        <th id=\"T_faca29fc_7caa_11eb_92e7_1e00e21a9388level0_row6\" class=\"row_heading level0 row6\" >35-39</th>\n",
       "                        <td id=\"T_faca29fc_7caa_11eb_92e7_1e00e21a9388row6_col0\" class=\"data row6 col0\" >41</td>\n",
       "                        <td id=\"T_faca29fc_7caa_11eb_92e7_1e00e21a9388row6_col1\" class=\"data row6 col1\" >$3.60</td>\n",
       "                        <td id=\"T_faca29fc_7caa_11eb_92e7_1e00e21a9388row6_col2\" class=\"data row6 col2\" >$147.67</td>\n",
       "                        <td id=\"T_faca29fc_7caa_11eb_92e7_1e00e21a9388row6_col3\" class=\"data row6 col3\" >$4.76</td>\n",
       "            </tr>\n",
       "            <tr>\n",
       "                        <th id=\"T_faca29fc_7caa_11eb_92e7_1e00e21a9388level0_row7\" class=\"row_heading level0 row7\" >40+</th>\n",
       "                        <td id=\"T_faca29fc_7caa_11eb_92e7_1e00e21a9388row7_col0\" class=\"data row7 col0\" >13</td>\n",
       "                        <td id=\"T_faca29fc_7caa_11eb_92e7_1e00e21a9388row7_col1\" class=\"data row7 col1\" >$2.94</td>\n",
       "                        <td id=\"T_faca29fc_7caa_11eb_92e7_1e00e21a9388row7_col2\" class=\"data row7 col2\" >$38.24</td>\n",
       "                        <td id=\"T_faca29fc_7caa_11eb_92e7_1e00e21a9388row7_col3\" class=\"data row7 col3\" >$3.19</td>\n",
       "            </tr>\n",
       "    </tbody></table>"
      ],
      "text/plain": [
       "<pandas.io.formats.style.Styler at 0x7fb22a021610>"
      ]
     },
     "execution_count": 27,
     "metadata": {},
     "output_type": "execute_result"
    }
   ],
   "source": [
    "#Grouping the data frame by alread established bin and group labels and getting unique count of column SN, count of Purchase Id and mean & sum of Price\n",
    "Agerange1 = purchase_data_df.groupby(\"Age Ranges\").agg({\"Purchase ID\": \"count\", \"Price\": [\"mean\", \"sum\"], \"SN\": \"nunique\"})\n",
    "#Inserting new columns\n",
    "Agerange1.columns=[\"Purchase Count\", \"Average Purchase Price\", \"Total Purchase Value\", \"SN\"]\n",
    "#Calculating Avg Total Purchase per Person\n",
    "Agerange1[\"Avg Total Purchase per Person\"] = Agerange1[\"Total Purchase Value\"]/Agerange1[\"SN\"]\n",
    "#Deleting column SN\n",
    "del Agerange1 [\"SN\"]\n",
    "#Formatting Average Purchase Price, Total Purchase Value and Avg Total Purchase per Person to have $ sign and two decimal points\n",
    "Agerange1[\"Average Purchase Price\"] = Agerange1[\"Average Purchase Price\"].map(\"${:.2f}\".format)\n",
    "Agerange1[\"Total Purchase Value\"] = Agerange1[\"Total Purchase Value\"].map(\"${:.2f}\".format)\n",
    "Agerange1[\"Avg Total Purchase per Person\"] = Agerange1[\"Avg Total Purchase per Person\"].map(\"${:.2f}\".format)\n",
    "#Aligning all the text to be left indented\n",
    "Agerange1 = Agerange1.style.set_properties(**{'text-align':'left'})\n",
    "#Setting all table style to be left indented which causes the index to be left indented as well\n",
    "Agerange1.set_table_styles([dict(selector='th', props=[('text-align', 'left')])])\n"
   ]
  },
  {
   "cell_type": "markdown",
   "metadata": {},
   "source": [
    "## Top Spenders"
   ]
  },
  {
   "cell_type": "markdown",
   "metadata": {},
   "source": [
    "* Run basic calculations to obtain the results in the table below\n",
    "\n",
    "\n",
    "* Create a summary data frame to hold the results\n",
    "\n",
    "\n",
    "* Sort the total purchase value column in descending order\n",
    "\n",
    "\n",
    "* Optional: give the displayed data cleaner formatting\n",
    "\n",
    "\n",
    "* Display a preview of the summary data frame\n",
    "\n"
   ]
  },
  {
   "cell_type": "code",
   "execution_count": 43,
   "metadata": {},
   "outputs": [
    {
     "data": {
      "text/html": [
       "<style  type=\"text/css\" >\n",
       "    #T_c8f21082_7cac_11eb_92e7_1e00e21a9388 th {\n",
       "          text-align: left;\n",
       "    }#T_c8f21082_7cac_11eb_92e7_1e00e21a9388row0_col0,#T_c8f21082_7cac_11eb_92e7_1e00e21a9388row0_col1,#T_c8f21082_7cac_11eb_92e7_1e00e21a9388row0_col2,#T_c8f21082_7cac_11eb_92e7_1e00e21a9388row1_col0,#T_c8f21082_7cac_11eb_92e7_1e00e21a9388row1_col1,#T_c8f21082_7cac_11eb_92e7_1e00e21a9388row1_col2,#T_c8f21082_7cac_11eb_92e7_1e00e21a9388row2_col0,#T_c8f21082_7cac_11eb_92e7_1e00e21a9388row2_col1,#T_c8f21082_7cac_11eb_92e7_1e00e21a9388row2_col2,#T_c8f21082_7cac_11eb_92e7_1e00e21a9388row3_col0,#T_c8f21082_7cac_11eb_92e7_1e00e21a9388row3_col1,#T_c8f21082_7cac_11eb_92e7_1e00e21a9388row3_col2,#T_c8f21082_7cac_11eb_92e7_1e00e21a9388row4_col0,#T_c8f21082_7cac_11eb_92e7_1e00e21a9388row4_col1,#T_c8f21082_7cac_11eb_92e7_1e00e21a9388row4_col2{\n",
       "            text-align:  left;\n",
       "        }</style><table id=\"T_c8f21082_7cac_11eb_92e7_1e00e21a9388\" ><thead>    <tr>        <th class=\"blank level0\" ></th>        <th class=\"col_heading level0 col0\" >Purchase Count</th>        <th class=\"col_heading level0 col1\" >Average Purchase Price</th>        <th class=\"col_heading level0 col2\" >Total Purchase Value</th>    </tr>    <tr>        <th class=\"index_name level0\" >SN</th>        <th class=\"blank\" ></th>        <th class=\"blank\" ></th>        <th class=\"blank\" ></th>    </tr></thead><tbody>\n",
       "                <tr>\n",
       "                        <th id=\"T_c8f21082_7cac_11eb_92e7_1e00e21a9388level0_row0\" class=\"row_heading level0 row0\" >Lisosia93</th>\n",
       "                        <td id=\"T_c8f21082_7cac_11eb_92e7_1e00e21a9388row0_col0\" class=\"data row0 col0\" >5</td>\n",
       "                        <td id=\"T_c8f21082_7cac_11eb_92e7_1e00e21a9388row0_col1\" class=\"data row0 col1\" >$3.79</td>\n",
       "                        <td id=\"T_c8f21082_7cac_11eb_92e7_1e00e21a9388row0_col2\" class=\"data row0 col2\" >$18.96</td>\n",
       "            </tr>\n",
       "            <tr>\n",
       "                        <th id=\"T_c8f21082_7cac_11eb_92e7_1e00e21a9388level0_row1\" class=\"row_heading level0 row1\" >Idastidru52</th>\n",
       "                        <td id=\"T_c8f21082_7cac_11eb_92e7_1e00e21a9388row1_col0\" class=\"data row1 col0\" >4</td>\n",
       "                        <td id=\"T_c8f21082_7cac_11eb_92e7_1e00e21a9388row1_col1\" class=\"data row1 col1\" >$3.86</td>\n",
       "                        <td id=\"T_c8f21082_7cac_11eb_92e7_1e00e21a9388row1_col2\" class=\"data row1 col2\" >$15.45</td>\n",
       "            </tr>\n",
       "            <tr>\n",
       "                        <th id=\"T_c8f21082_7cac_11eb_92e7_1e00e21a9388level0_row2\" class=\"row_heading level0 row2\" >Chamjask73</th>\n",
       "                        <td id=\"T_c8f21082_7cac_11eb_92e7_1e00e21a9388row2_col0\" class=\"data row2 col0\" >3</td>\n",
       "                        <td id=\"T_c8f21082_7cac_11eb_92e7_1e00e21a9388row2_col1\" class=\"data row2 col1\" >$4.61</td>\n",
       "                        <td id=\"T_c8f21082_7cac_11eb_92e7_1e00e21a9388row2_col2\" class=\"data row2 col2\" >$13.83</td>\n",
       "            </tr>\n",
       "            <tr>\n",
       "                        <th id=\"T_c8f21082_7cac_11eb_92e7_1e00e21a9388level0_row3\" class=\"row_heading level0 row3\" >Iral74</th>\n",
       "                        <td id=\"T_c8f21082_7cac_11eb_92e7_1e00e21a9388row3_col0\" class=\"data row3 col0\" >4</td>\n",
       "                        <td id=\"T_c8f21082_7cac_11eb_92e7_1e00e21a9388row3_col1\" class=\"data row3 col1\" >$3.40</td>\n",
       "                        <td id=\"T_c8f21082_7cac_11eb_92e7_1e00e21a9388row3_col2\" class=\"data row3 col2\" >$13.62</td>\n",
       "            </tr>\n",
       "            <tr>\n",
       "                        <th id=\"T_c8f21082_7cac_11eb_92e7_1e00e21a9388level0_row4\" class=\"row_heading level0 row4\" >Iskadarya95</th>\n",
       "                        <td id=\"T_c8f21082_7cac_11eb_92e7_1e00e21a9388row4_col0\" class=\"data row4 col0\" >3</td>\n",
       "                        <td id=\"T_c8f21082_7cac_11eb_92e7_1e00e21a9388row4_col1\" class=\"data row4 col1\" >$4.37</td>\n",
       "                        <td id=\"T_c8f21082_7cac_11eb_92e7_1e00e21a9388row4_col2\" class=\"data row4 col2\" >$13.10</td>\n",
       "            </tr>\n",
       "    </tbody></table>"
      ],
      "text/plain": [
       "<pandas.io.formats.style.Styler at 0x7fb2292d1ca0>"
      ]
     },
     "execution_count": 43,
     "metadata": {},
     "output_type": "execute_result"
    }
   ],
   "source": [
    "#Grouping the data frame by SN and getting count of Purchase Id and mean & sum of Price\n",
    "SN1 = purchase_data_df.groupby(\"SN\").agg({\"Purchase ID\": \"count\", \"Price\": [\"mean\", \"sum\"]})\n",
    "#Inserting new columns\n",
    "SN1.columns=[\"Purchase Count\", \"Average Purchase Price\", \"Total Purchase Value\"]\n",
    "#Sorting by Total Purchase Value highest to lowest\n",
    "SN1 = SN1.sort_values(\"Total Purchase Value\", ascending=False)\n",
    "#Formatting Average Purchase Price and Total Purchase Value to have $ sign and two decimal points\n",
    "SN1[\"Average Purchase Price\"] = SN1[\"Average Purchase Price\"].map(\"${:.2f}\".format)\n",
    "SN1[\"Total Purchase Value\"] = SN1[\"Total Purchase Value\"].map(\"${:.2f}\".format)\n",
    "#Aligning all the text to be left indented\n",
    "SN1 = SN1.head(5).style.set_properties(**{'text-align':'left'})\n",
    "#Setting all table style to be left indented which causes the index to be left indented as well\n",
    "SN1.set_table_styles([dict(selector='th', props=[('text-align', 'left')])])\n"
   ]
  },
  {
   "cell_type": "markdown",
   "metadata": {},
   "source": [
    "## Most Popular Items"
   ]
  },
  {
   "cell_type": "markdown",
   "metadata": {},
   "source": [
    "* Retrieve the Item ID, Item Name, and Item Price columns\n",
    "\n",
    "\n",
    "* Group by Item ID and Item Name. Perform calculations to obtain purchase count, item price, and total purchase value\n",
    "\n",
    "\n",
    "* Create a summary data frame to hold the results\n",
    "\n",
    "\n",
    "* Sort the purchase count column in descending order\n",
    "\n",
    "\n",
    "* Optional: give the displayed data cleaner formatting\n",
    "\n",
    "\n",
    "* Display a preview of the summary data frame\n",
    "\n"
   ]
  },
  {
   "cell_type": "code",
   "execution_count": 46,
   "metadata": {},
   "outputs": [
    {
     "data": {
      "text/html": [
       "<style  type=\"text/css\" >\n",
       "    #T_e34e3208_7cac_11eb_92e7_1e00e21a9388 th {\n",
       "          text-align: left;\n",
       "    }#T_e34e3208_7cac_11eb_92e7_1e00e21a9388row0_col0,#T_e34e3208_7cac_11eb_92e7_1e00e21a9388row0_col1,#T_e34e3208_7cac_11eb_92e7_1e00e21a9388row0_col2,#T_e34e3208_7cac_11eb_92e7_1e00e21a9388row1_col0,#T_e34e3208_7cac_11eb_92e7_1e00e21a9388row1_col1,#T_e34e3208_7cac_11eb_92e7_1e00e21a9388row1_col2,#T_e34e3208_7cac_11eb_92e7_1e00e21a9388row2_col0,#T_e34e3208_7cac_11eb_92e7_1e00e21a9388row2_col1,#T_e34e3208_7cac_11eb_92e7_1e00e21a9388row2_col2,#T_e34e3208_7cac_11eb_92e7_1e00e21a9388row3_col0,#T_e34e3208_7cac_11eb_92e7_1e00e21a9388row3_col1,#T_e34e3208_7cac_11eb_92e7_1e00e21a9388row3_col2,#T_e34e3208_7cac_11eb_92e7_1e00e21a9388row4_col0,#T_e34e3208_7cac_11eb_92e7_1e00e21a9388row4_col1,#T_e34e3208_7cac_11eb_92e7_1e00e21a9388row4_col2{\n",
       "            text-align:  left;\n",
       "        }</style><table id=\"T_e34e3208_7cac_11eb_92e7_1e00e21a9388\" ><thead>    <tr>        <th class=\"blank\" ></th>        <th class=\"blank level0\" ></th>        <th class=\"col_heading level0 col0\" >Purchase Count</th>        <th class=\"col_heading level0 col1\" >Item Price</th>        <th class=\"col_heading level0 col2\" >Total Purchase Value</th>    </tr>    <tr>        <th class=\"index_name level0\" >Item ID</th>        <th class=\"index_name level1\" >Item Name</th>        <th class=\"blank\" ></th>        <th class=\"blank\" ></th>        <th class=\"blank\" ></th>    </tr></thead><tbody>\n",
       "                <tr>\n",
       "                        <th id=\"T_e34e3208_7cac_11eb_92e7_1e00e21a9388level0_row0\" class=\"row_heading level0 row0\" >92</th>\n",
       "                        <th id=\"T_e34e3208_7cac_11eb_92e7_1e00e21a9388level1_row0\" class=\"row_heading level1 row0\" >Final Critic</th>\n",
       "                        <td id=\"T_e34e3208_7cac_11eb_92e7_1e00e21a9388row0_col0\" class=\"data row0 col0\" >13</td>\n",
       "                        <td id=\"T_e34e3208_7cac_11eb_92e7_1e00e21a9388row0_col1\" class=\"data row0 col1\" >$4.61</td>\n",
       "                        <td id=\"T_e34e3208_7cac_11eb_92e7_1e00e21a9388row0_col2\" class=\"data row0 col2\" >$59.99</td>\n",
       "            </tr>\n",
       "            <tr>\n",
       "                        <th id=\"T_e34e3208_7cac_11eb_92e7_1e00e21a9388level0_row1\" class=\"row_heading level0 row1\" >178</th>\n",
       "                        <th id=\"T_e34e3208_7cac_11eb_92e7_1e00e21a9388level1_row1\" class=\"row_heading level1 row1\" >Oathbreaker, Last Hope of the Breaking Storm</th>\n",
       "                        <td id=\"T_e34e3208_7cac_11eb_92e7_1e00e21a9388row1_col0\" class=\"data row1 col0\" >12</td>\n",
       "                        <td id=\"T_e34e3208_7cac_11eb_92e7_1e00e21a9388row1_col1\" class=\"data row1 col1\" >$4.23</td>\n",
       "                        <td id=\"T_e34e3208_7cac_11eb_92e7_1e00e21a9388row1_col2\" class=\"data row1 col2\" >$50.76</td>\n",
       "            </tr>\n",
       "            <tr>\n",
       "                        <th id=\"T_e34e3208_7cac_11eb_92e7_1e00e21a9388level0_row2\" class=\"row_heading level0 row2\" >145</th>\n",
       "                        <th id=\"T_e34e3208_7cac_11eb_92e7_1e00e21a9388level1_row2\" class=\"row_heading level1 row2\" >Fiery Glass Crusader</th>\n",
       "                        <td id=\"T_e34e3208_7cac_11eb_92e7_1e00e21a9388row2_col0\" class=\"data row2 col0\" >9</td>\n",
       "                        <td id=\"T_e34e3208_7cac_11eb_92e7_1e00e21a9388row2_col1\" class=\"data row2 col1\" >$4.58</td>\n",
       "                        <td id=\"T_e34e3208_7cac_11eb_92e7_1e00e21a9388row2_col2\" class=\"data row2 col2\" >$41.22</td>\n",
       "            </tr>\n",
       "            <tr>\n",
       "                        <th id=\"T_e34e3208_7cac_11eb_92e7_1e00e21a9388level0_row3\" class=\"row_heading level0 row3\" >132</th>\n",
       "                        <th id=\"T_e34e3208_7cac_11eb_92e7_1e00e21a9388level1_row3\" class=\"row_heading level1 row3\" >Persuasion</th>\n",
       "                        <td id=\"T_e34e3208_7cac_11eb_92e7_1e00e21a9388row3_col0\" class=\"data row3 col0\" >9</td>\n",
       "                        <td id=\"T_e34e3208_7cac_11eb_92e7_1e00e21a9388row3_col1\" class=\"data row3 col1\" >$3.22</td>\n",
       "                        <td id=\"T_e34e3208_7cac_11eb_92e7_1e00e21a9388row3_col2\" class=\"data row3 col2\" >$28.99</td>\n",
       "            </tr>\n",
       "            <tr>\n",
       "                        <th id=\"T_e34e3208_7cac_11eb_92e7_1e00e21a9388level0_row4\" class=\"row_heading level0 row4\" >108</th>\n",
       "                        <th id=\"T_e34e3208_7cac_11eb_92e7_1e00e21a9388level1_row4\" class=\"row_heading level1 row4\" >Extraction, Quickblade Of Trembling Hands</th>\n",
       "                        <td id=\"T_e34e3208_7cac_11eb_92e7_1e00e21a9388row4_col0\" class=\"data row4 col0\" >9</td>\n",
       "                        <td id=\"T_e34e3208_7cac_11eb_92e7_1e00e21a9388row4_col1\" class=\"data row4 col1\" >$3.53</td>\n",
       "                        <td id=\"T_e34e3208_7cac_11eb_92e7_1e00e21a9388row4_col2\" class=\"data row4 col2\" >$31.77</td>\n",
       "            </tr>\n",
       "    </tbody></table>"
      ],
      "text/plain": [
       "<pandas.io.formats.style.Styler at 0x7fb22a0216d0>"
      ]
     },
     "execution_count": 46,
     "metadata": {},
     "output_type": "execute_result"
    }
   ],
   "source": [
    "#Grouping the data frame by Item Id and Item Name and getting count of Purchase Id and mean & sum of Price\n",
    "Item1 = purchase_data_df.groupby([\"Item ID\", \"Item Name\"]).agg({\"Purchase ID\": \"count\", \"Price\": [\"mean\", \"sum\"]})\n",
    "#Inserting new columns\n",
    "Item1.columns=[\"Purchase Count\", \"Item Price\", \"Total Purchase Value\"]\n",
    "#Sorting by Purchase Count highest to lowest\n",
    "Item1 = Item1.sort_values(\"Purchase Count\", ascending=False)\n",
    "#Formatting Item Price and Total Purchase Value to have $ sign and two decimal points\n",
    "Item1[\"Item Price\"] = Item1[\"Item Price\"].map(\"${:.2f}\".format)\n",
    "Item1[\"Total Purchase Value\"] = Item1[\"Total Purchase Value\"].map(\"${:.2f}\".format)\n",
    "#Aligning all the text to be left indented\n",
    "Item1 = Item1.head(5).style.set_properties(**{'text-align':'left'})\n",
    "#Setting all table style to be left indented which causes the index to be left indented as well\n",
    "Item1.set_table_styles([dict(selector='th', props=[('text-align', 'left')])])\n"
   ]
  },
  {
   "cell_type": "markdown",
   "metadata": {},
   "source": [
    "## Most Profitable Items"
   ]
  },
  {
   "cell_type": "markdown",
   "metadata": {},
   "source": [
    "* Sort the above table by total purchase value in descending order\n",
    "\n",
    "\n",
    "* Optional: give the displayed data cleaner formatting\n",
    "\n",
    "\n",
    "* Display a preview of the data frame\n",
    "\n"
   ]
  },
  {
   "cell_type": "code",
   "execution_count": 47,
   "metadata": {
    "scrolled": true
   },
   "outputs": [
    {
     "data": {
      "text/html": [
       "<style  type=\"text/css\" >\n",
       "    #T_ef634236_7cac_11eb_92e7_1e00e21a9388 th {\n",
       "          text-align: left;\n",
       "    }#T_ef634236_7cac_11eb_92e7_1e00e21a9388row0_col0,#T_ef634236_7cac_11eb_92e7_1e00e21a9388row0_col1,#T_ef634236_7cac_11eb_92e7_1e00e21a9388row0_col2,#T_ef634236_7cac_11eb_92e7_1e00e21a9388row1_col0,#T_ef634236_7cac_11eb_92e7_1e00e21a9388row1_col1,#T_ef634236_7cac_11eb_92e7_1e00e21a9388row1_col2,#T_ef634236_7cac_11eb_92e7_1e00e21a9388row2_col0,#T_ef634236_7cac_11eb_92e7_1e00e21a9388row2_col1,#T_ef634236_7cac_11eb_92e7_1e00e21a9388row2_col2,#T_ef634236_7cac_11eb_92e7_1e00e21a9388row3_col0,#T_ef634236_7cac_11eb_92e7_1e00e21a9388row3_col1,#T_ef634236_7cac_11eb_92e7_1e00e21a9388row3_col2,#T_ef634236_7cac_11eb_92e7_1e00e21a9388row4_col0,#T_ef634236_7cac_11eb_92e7_1e00e21a9388row4_col1,#T_ef634236_7cac_11eb_92e7_1e00e21a9388row4_col2{\n",
       "            text-align:  left;\n",
       "        }</style><table id=\"T_ef634236_7cac_11eb_92e7_1e00e21a9388\" ><thead>    <tr>        <th class=\"blank\" ></th>        <th class=\"blank level0\" ></th>        <th class=\"col_heading level0 col0\" >Purchase Count</th>        <th class=\"col_heading level0 col1\" >Item Price</th>        <th class=\"col_heading level0 col2\" >Total Purchase Value</th>    </tr>    <tr>        <th class=\"index_name level0\" >Item ID</th>        <th class=\"index_name level1\" >Item Name</th>        <th class=\"blank\" ></th>        <th class=\"blank\" ></th>        <th class=\"blank\" ></th>    </tr></thead><tbody>\n",
       "                <tr>\n",
       "                        <th id=\"T_ef634236_7cac_11eb_92e7_1e00e21a9388level0_row0\" class=\"row_heading level0 row0\" >92</th>\n",
       "                        <th id=\"T_ef634236_7cac_11eb_92e7_1e00e21a9388level1_row0\" class=\"row_heading level1 row0\" >Final Critic</th>\n",
       "                        <td id=\"T_ef634236_7cac_11eb_92e7_1e00e21a9388row0_col0\" class=\"data row0 col0\" >13</td>\n",
       "                        <td id=\"T_ef634236_7cac_11eb_92e7_1e00e21a9388row0_col1\" class=\"data row0 col1\" >$4.61</td>\n",
       "                        <td id=\"T_ef634236_7cac_11eb_92e7_1e00e21a9388row0_col2\" class=\"data row0 col2\" >$59.99</td>\n",
       "            </tr>\n",
       "            <tr>\n",
       "                        <th id=\"T_ef634236_7cac_11eb_92e7_1e00e21a9388level0_row1\" class=\"row_heading level0 row1\" >178</th>\n",
       "                        <th id=\"T_ef634236_7cac_11eb_92e7_1e00e21a9388level1_row1\" class=\"row_heading level1 row1\" >Oathbreaker, Last Hope of the Breaking Storm</th>\n",
       "                        <td id=\"T_ef634236_7cac_11eb_92e7_1e00e21a9388row1_col0\" class=\"data row1 col0\" >12</td>\n",
       "                        <td id=\"T_ef634236_7cac_11eb_92e7_1e00e21a9388row1_col1\" class=\"data row1 col1\" >$4.23</td>\n",
       "                        <td id=\"T_ef634236_7cac_11eb_92e7_1e00e21a9388row1_col2\" class=\"data row1 col2\" >$50.76</td>\n",
       "            </tr>\n",
       "            <tr>\n",
       "                        <th id=\"T_ef634236_7cac_11eb_92e7_1e00e21a9388level0_row2\" class=\"row_heading level0 row2\" >82</th>\n",
       "                        <th id=\"T_ef634236_7cac_11eb_92e7_1e00e21a9388level1_row2\" class=\"row_heading level1 row2\" >Nirvana</th>\n",
       "                        <td id=\"T_ef634236_7cac_11eb_92e7_1e00e21a9388row2_col0\" class=\"data row2 col0\" >9</td>\n",
       "                        <td id=\"T_ef634236_7cac_11eb_92e7_1e00e21a9388row2_col1\" class=\"data row2 col1\" >$4.90</td>\n",
       "                        <td id=\"T_ef634236_7cac_11eb_92e7_1e00e21a9388row2_col2\" class=\"data row2 col2\" >$44.10</td>\n",
       "            </tr>\n",
       "            <tr>\n",
       "                        <th id=\"T_ef634236_7cac_11eb_92e7_1e00e21a9388level0_row3\" class=\"row_heading level0 row3\" >145</th>\n",
       "                        <th id=\"T_ef634236_7cac_11eb_92e7_1e00e21a9388level1_row3\" class=\"row_heading level1 row3\" >Fiery Glass Crusader</th>\n",
       "                        <td id=\"T_ef634236_7cac_11eb_92e7_1e00e21a9388row3_col0\" class=\"data row3 col0\" >9</td>\n",
       "                        <td id=\"T_ef634236_7cac_11eb_92e7_1e00e21a9388row3_col1\" class=\"data row3 col1\" >$4.58</td>\n",
       "                        <td id=\"T_ef634236_7cac_11eb_92e7_1e00e21a9388row3_col2\" class=\"data row3 col2\" >$41.22</td>\n",
       "            </tr>\n",
       "            <tr>\n",
       "                        <th id=\"T_ef634236_7cac_11eb_92e7_1e00e21a9388level0_row4\" class=\"row_heading level0 row4\" >103</th>\n",
       "                        <th id=\"T_ef634236_7cac_11eb_92e7_1e00e21a9388level1_row4\" class=\"row_heading level1 row4\" >Singed Scalpel</th>\n",
       "                        <td id=\"T_ef634236_7cac_11eb_92e7_1e00e21a9388row4_col0\" class=\"data row4 col0\" >8</td>\n",
       "                        <td id=\"T_ef634236_7cac_11eb_92e7_1e00e21a9388row4_col1\" class=\"data row4 col1\" >$4.35</td>\n",
       "                        <td id=\"T_ef634236_7cac_11eb_92e7_1e00e21a9388row4_col2\" class=\"data row4 col2\" >$34.80</td>\n",
       "            </tr>\n",
       "    </tbody></table>"
      ],
      "text/plain": [
       "<pandas.io.formats.style.Styler at 0x7fb25854df10>"
      ]
     },
     "execution_count": 47,
     "metadata": {},
     "output_type": "execute_result"
    }
   ],
   "source": [
    "#Grouping the data frame by Item Id and Item Name and getting count of Purchase Id and mean & sum of Price\n",
    "Item2 = purchase_data_df.groupby([\"Item ID\", \"Item Name\"]).agg({\"Purchase ID\": \"count\", \"Price\": [\"mean\", \"sum\"]})\n",
    "#Inserting new columns\n",
    "Item2.columns=[\"Purchase Count\", \"Item Price\", \"Total Purchase Value\"]\n",
    "#Sorting by Total Purchase Value highest to lowest\n",
    "Item2 = Item2.sort_values(\"Total Purchase Value\", ascending=False)\n",
    "#Formatting Item Price and Total Purchase Value to have $ sign and two decimal points\n",
    "Item2[\"Item Price\"] = Item2[\"Item Price\"].map(\"${:.2f}\".format)\n",
    "Item2[\"Total Purchase Value\"] = Item2[\"Total Purchase Value\"].map(\"${:.2f}\".format)\n",
    "#Aligning all the text to be left indented\n",
    "Item2 = Item2.head(5).style.set_properties(**{'text-align':'left'})\n",
    "#Setting all table style to be left indented which causes the index to be left indented as well\n",
    "Item2.set_table_styles([dict(selector='th', props=[('text-align', 'left')])])\n"
   ]
  },
  {
   "cell_type": "code",
   "execution_count": null,
   "metadata": {},
   "outputs": [],
   "source": []
  }
 ],
 "metadata": {
  "anaconda-cloud": {},
  "celltoolbar": "Raw Cell Format",
  "kernel_info": {
   "name": "python3"
  },
  "kernelspec": {
   "display_name": "Python 3",
   "language": "python",
   "name": "python3"
  },
  "language_info": {
   "codemirror_mode": {
    "name": "ipython",
    "version": 3
   },
   "file_extension": ".py",
   "mimetype": "text/x-python",
   "name": "python",
   "nbconvert_exporter": "python",
   "pygments_lexer": "ipython3",
   "version": "3.8.5"
  },
  "latex_envs": {
   "LaTeX_envs_menu_present": true,
   "autoclose": false,
   "autocomplete": true,
   "bibliofile": "biblio.bib",
   "cite_by": "apalike",
   "current_citInitial": 1,
   "eqLabelWithNumbers": true,
   "eqNumInitial": 1,
   "hotkeys": {
    "equation": "Ctrl-E",
    "itemize": "Ctrl-I"
   },
   "labels_anchors": false,
   "latex_user_defs": false,
   "report_style_numbering": false,
   "user_envs_cfg": false
  },
  "nteract": {
   "version": "0.2.0"
  }
 },
 "nbformat": 4,
 "nbformat_minor": 2
}
